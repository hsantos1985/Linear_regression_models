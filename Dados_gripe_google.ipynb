{
  "nbformat": 4,
  "nbformat_minor": 0,
  "metadata": {
    "colab": {
      "name": "Dados_gripe_google",
      "provenance": [],
      "authorship_tag": "ABX9TyNP+O71CX4R4A+gQwDRGjG+",
      "include_colab_link": true
    },
    "kernelspec": {
      "name": "python3",
      "display_name": "Python 3"
    },
    "language_info": {
      "name": "python"
    }
  },
  "cells": [
    {
      "cell_type": "markdown",
      "metadata": {
        "id": "view-in-github",
        "colab_type": "text"
      },
      "source": [
        "<a href=\"https://colab.research.google.com/github/hsantos1985/Linear_regression_models/blob/main/Dados_gripe_google.ipynb\" target=\"_parent\"><img src=\"https://colab.research.google.com/assets/colab-badge.svg\" alt=\"Open In Colab\"/></a>"
      ]
    },
    {
      "cell_type": "markdown",
      "source": [
        "# Dados do Google Flu\n",
        "\n",
        "A epidemia de gripe é um grande problema de saúde pública que causa um grande número de hospitalizações e mortes. De acordo com o National Vital Statistics Reports, publicado em outubro de 2012, influenza é a oitava causa de mortes em 2011 nos Estados Unidos. Para o mundo todo, a cada ano, morrem de 250000 à 500000 pessoas por ano de influenza.\n",
        "\n",
        "O Centro de Controle de Doenças (CDC) e o \n",
        "European Influenza Surveillance Scheme (EISS) detectam influenza através de dados clínicos, entretanto essas informações são publicadas com atraso de 1-2 semanas.\n",
        "\n",
        "O Google Flu Trends é um projeto que foi criado para testar se é possível identificar a quantidade de casos de gripe baseado na quantidade de buscas sobre o assunto, já que esse dado pode ser recuperado imediatamente.\n",
        "\n",
        "Nosso objetivo é estimar o número de doenças similares a influenza (influenza-like illness ILI) usando a informação das buscas do Google. \n",
        "\n",
        "Uma das fontes de dados, o Google Search Queries - Google Trends fornece a contagem semanal de buscas dos usuários do google ao redor do mundo. Para cada local, a contagem é normalizada dividindo a contadem de cada busca na semana pelo número total de buscas. Dessa forma os valores estão entre 0 e 1.\n",
        " \n",
        " O arquivo csv [FluTrain](https://raw.githubusercontent.com/abnr/ml-data/main/FluTrain.csv) agrega os dois dados de Janeiro de 2004 até Dezembro de 2011, com as colunas:\n",
        "\n",
        "\"Week\" - A faixa de datas a qual a observação foi feita, no formato ano/mes/dia.\n",
        "\n",
        "\"ILI\" - A porcentagem de casos de ILI reportados na semana.\n",
        "\n",
        "\"Queries\" - A fração das buscas de ILI naquela semana.\n",
        "\n",
        "O arquivo [FluTest](https://raw.githubusercontent.com/abnr/ml-data/main/FluTest.csv) contem os dados de 2012, utilize esses dados para teste.\n",
        "\n"
      ],
      "metadata": {
        "id": "W52aw2YUWOL8"
      }
    },
    {
      "cell_type": "code",
      "execution_count": null,
      "metadata": {
        "id": "FJX2qNzmVu3b"
      },
      "outputs": [],
      "source": [
        "#importando as bibliotecas\n",
        "import pandas as pd\n",
        "import numpy as np\n",
        "import seaborn as sns\n",
        "import statsmodels.api as sm\n",
        "import statsmodels.stats.api as sms\n",
        "import statsmodels.tsa.api as smt\n",
        "from scipy import stats\n",
        "from scipy.stats.stats import pearsonr\n",
        "import scipy\n",
        "from sklearn.metrics import r2_score, mean_squared_error\n",
        "from IPython.core.pylabtools import figsize\n",
        "\n",
        "\n",
        "\n",
        "import matplotlib.pyplot as plt\n",
        "from matplotlib.legend_handler import HandlerLine2D\n",
        "from statsmodels.stats.outliers_influence import summary_table\n",
        "from statsmodels.stats.outliers_influence import variance_inflation_factor\n",
        "from sklearn.preprocessing import MinMaxScaler, StandardScaler, RobustScaler, OneHotEncoder, OrdinalEncoder\n",
        "from sklearn.compose import ColumnTransformer"
      ]
    },
    {
      "cell_type": "code",
      "source": [
        "df_treino=pd.read_csv('https://raw.githubusercontent.com/abnr/ml-data/main/FluTrain.csv')"
      ],
      "metadata": {
        "id": "I-95f1cPWoHy"
      },
      "execution_count": null,
      "outputs": []
    },
    {
      "cell_type": "code",
      "source": [
        "df_teste=pd.read_csv('https://raw.githubusercontent.com/abnr/ml-data/main/FluTest.csv')"
      ],
      "metadata": {
        "id": "9vEXwoUHXdPB"
      },
      "execution_count": null,
      "outputs": []
    },
    {
      "cell_type": "markdown",
      "source": [
        "# Inspeção de dados"
      ],
      "metadata": {
        "id": "gk2CF0w7XocO"
      }
    },
    {
      "cell_type": "code",
      "source": [
        "df_treino.head()"
      ],
      "metadata": {
        "colab": {
          "base_uri": "https://localhost:8080/",
          "height": 206
        },
        "id": "m-yBboijXs7C",
        "outputId": "7ad96555-9aaf-4645-8ef2-fa4f6f36bcd5"
      },
      "execution_count": null,
      "outputs": [
        {
          "output_type": "execute_result",
          "data": {
            "text/html": [
              "\n",
              "  <div id=\"df-f7011eff-c8b4-46e0-872b-6a26d35c8aaa\">\n",
              "    <div class=\"colab-df-container\">\n",
              "      <div>\n",
              "<style scoped>\n",
              "    .dataframe tbody tr th:only-of-type {\n",
              "        vertical-align: middle;\n",
              "    }\n",
              "\n",
              "    .dataframe tbody tr th {\n",
              "        vertical-align: top;\n",
              "    }\n",
              "\n",
              "    .dataframe thead th {\n",
              "        text-align: right;\n",
              "    }\n",
              "</style>\n",
              "<table border=\"1\" class=\"dataframe\">\n",
              "  <thead>\n",
              "    <tr style=\"text-align: right;\">\n",
              "      <th></th>\n",
              "      <th>Week</th>\n",
              "      <th>ILI</th>\n",
              "      <th>Queries</th>\n",
              "    </tr>\n",
              "  </thead>\n",
              "  <tbody>\n",
              "    <tr>\n",
              "      <th>0</th>\n",
              "      <td>2004-01-04 - 2004-01-10</td>\n",
              "      <td>2.418331</td>\n",
              "      <td>0.237716</td>\n",
              "    </tr>\n",
              "    <tr>\n",
              "      <th>1</th>\n",
              "      <td>2004-01-11 - 2004-01-17</td>\n",
              "      <td>1.809056</td>\n",
              "      <td>0.220452</td>\n",
              "    </tr>\n",
              "    <tr>\n",
              "      <th>2</th>\n",
              "      <td>2004-01-18 - 2004-01-24</td>\n",
              "      <td>1.712024</td>\n",
              "      <td>0.225764</td>\n",
              "    </tr>\n",
              "    <tr>\n",
              "      <th>3</th>\n",
              "      <td>2004-01-25 - 2004-01-31</td>\n",
              "      <td>1.542495</td>\n",
              "      <td>0.237716</td>\n",
              "    </tr>\n",
              "    <tr>\n",
              "      <th>4</th>\n",
              "      <td>2004-02-01 - 2004-02-07</td>\n",
              "      <td>1.437868</td>\n",
              "      <td>0.224436</td>\n",
              "    </tr>\n",
              "  </tbody>\n",
              "</table>\n",
              "</div>\n",
              "      <button class=\"colab-df-convert\" onclick=\"convertToInteractive('df-f7011eff-c8b4-46e0-872b-6a26d35c8aaa')\"\n",
              "              title=\"Convert this dataframe to an interactive table.\"\n",
              "              style=\"display:none;\">\n",
              "        \n",
              "  <svg xmlns=\"http://www.w3.org/2000/svg\" height=\"24px\"viewBox=\"0 0 24 24\"\n",
              "       width=\"24px\">\n",
              "    <path d=\"M0 0h24v24H0V0z\" fill=\"none\"/>\n",
              "    <path d=\"M18.56 5.44l.94 2.06.94-2.06 2.06-.94-2.06-.94-.94-2.06-.94 2.06-2.06.94zm-11 1L8.5 8.5l.94-2.06 2.06-.94-2.06-.94L8.5 2.5l-.94 2.06-2.06.94zm10 10l.94 2.06.94-2.06 2.06-.94-2.06-.94-.94-2.06-.94 2.06-2.06.94z\"/><path d=\"M17.41 7.96l-1.37-1.37c-.4-.4-.92-.59-1.43-.59-.52 0-1.04.2-1.43.59L10.3 9.45l-7.72 7.72c-.78.78-.78 2.05 0 2.83L4 21.41c.39.39.9.59 1.41.59.51 0 1.02-.2 1.41-.59l7.78-7.78 2.81-2.81c.8-.78.8-2.07 0-2.86zM5.41 20L4 18.59l7.72-7.72 1.47 1.35L5.41 20z\"/>\n",
              "  </svg>\n",
              "      </button>\n",
              "      \n",
              "  <style>\n",
              "    .colab-df-container {\n",
              "      display:flex;\n",
              "      flex-wrap:wrap;\n",
              "      gap: 12px;\n",
              "    }\n",
              "\n",
              "    .colab-df-convert {\n",
              "      background-color: #E8F0FE;\n",
              "      border: none;\n",
              "      border-radius: 50%;\n",
              "      cursor: pointer;\n",
              "      display: none;\n",
              "      fill: #1967D2;\n",
              "      height: 32px;\n",
              "      padding: 0 0 0 0;\n",
              "      width: 32px;\n",
              "    }\n",
              "\n",
              "    .colab-df-convert:hover {\n",
              "      background-color: #E2EBFA;\n",
              "      box-shadow: 0px 1px 2px rgba(60, 64, 67, 0.3), 0px 1px 3px 1px rgba(60, 64, 67, 0.15);\n",
              "      fill: #174EA6;\n",
              "    }\n",
              "\n",
              "    [theme=dark] .colab-df-convert {\n",
              "      background-color: #3B4455;\n",
              "      fill: #D2E3FC;\n",
              "    }\n",
              "\n",
              "    [theme=dark] .colab-df-convert:hover {\n",
              "      background-color: #434B5C;\n",
              "      box-shadow: 0px 1px 3px 1px rgba(0, 0, 0, 0.15);\n",
              "      filter: drop-shadow(0px 1px 2px rgba(0, 0, 0, 0.3));\n",
              "      fill: #FFFFFF;\n",
              "    }\n",
              "  </style>\n",
              "\n",
              "      <script>\n",
              "        const buttonEl =\n",
              "          document.querySelector('#df-f7011eff-c8b4-46e0-872b-6a26d35c8aaa button.colab-df-convert');\n",
              "        buttonEl.style.display =\n",
              "          google.colab.kernel.accessAllowed ? 'block' : 'none';\n",
              "\n",
              "        async function convertToInteractive(key) {\n",
              "          const element = document.querySelector('#df-f7011eff-c8b4-46e0-872b-6a26d35c8aaa');\n",
              "          const dataTable =\n",
              "            await google.colab.kernel.invokeFunction('convertToInteractive',\n",
              "                                                     [key], {});\n",
              "          if (!dataTable) return;\n",
              "\n",
              "          const docLinkHtml = 'Like what you see? Visit the ' +\n",
              "            '<a target=\"_blank\" href=https://colab.research.google.com/notebooks/data_table.ipynb>data table notebook</a>'\n",
              "            + ' to learn more about interactive tables.';\n",
              "          element.innerHTML = '';\n",
              "          dataTable['output_type'] = 'display_data';\n",
              "          await google.colab.output.renderOutput(dataTable, element);\n",
              "          const docLink = document.createElement('div');\n",
              "          docLink.innerHTML = docLinkHtml;\n",
              "          element.appendChild(docLink);\n",
              "        }\n",
              "      </script>\n",
              "    </div>\n",
              "  </div>\n",
              "  "
            ],
            "text/plain": [
              "                      Week       ILI   Queries\n",
              "0  2004-01-04 - 2004-01-10  2.418331  0.237716\n",
              "1  2004-01-11 - 2004-01-17  1.809056  0.220452\n",
              "2  2004-01-18 - 2004-01-24  1.712024  0.225764\n",
              "3  2004-01-25 - 2004-01-31  1.542495  0.237716\n",
              "4  2004-02-01 - 2004-02-07  1.437868  0.224436"
            ]
          },
          "metadata": {},
          "execution_count": 25
        }
      ]
    },
    {
      "cell_type": "code",
      "source": [
        "df_treino.info()"
      ],
      "metadata": {
        "colab": {
          "base_uri": "https://localhost:8080/"
        },
        "id": "p5BrMHiKXtrM",
        "outputId": "2598f4fc-91f2-48f0-f76f-4693a1cabf32"
      },
      "execution_count": null,
      "outputs": [
        {
          "output_type": "stream",
          "name": "stdout",
          "text": [
            "<class 'pandas.core.frame.DataFrame'>\n",
            "RangeIndex: 417 entries, 0 to 416\n",
            "Data columns (total 3 columns):\n",
            " #   Column   Non-Null Count  Dtype  \n",
            "---  ------   --------------  -----  \n",
            " 0   Week     417 non-null    object \n",
            " 1   ILI      417 non-null    float64\n",
            " 2   Queries  417 non-null    float64\n",
            "dtypes: float64(2), object(1)\n",
            "memory usage: 9.9+ KB\n"
          ]
        }
      ]
    },
    {
      "cell_type": "code",
      "source": [
        "#análise descritiva do dataset\n",
        "df_treino.describe().T"
      ],
      "metadata": {
        "colab": {
          "base_uri": "https://localhost:8080/",
          "height": 112
        },
        "id": "-kxaC_TgZM4u",
        "outputId": "a4e3ba40-2416-4ae8-b244-c00761c39b8d"
      },
      "execution_count": null,
      "outputs": [
        {
          "output_type": "execute_result",
          "data": {
            "text/html": [
              "\n",
              "  <div id=\"df-f5ab369b-0a02-45ea-9479-8b5b95706180\">\n",
              "    <div class=\"colab-df-container\">\n",
              "      <div>\n",
              "<style scoped>\n",
              "    .dataframe tbody tr th:only-of-type {\n",
              "        vertical-align: middle;\n",
              "    }\n",
              "\n",
              "    .dataframe tbody tr th {\n",
              "        vertical-align: top;\n",
              "    }\n",
              "\n",
              "    .dataframe thead th {\n",
              "        text-align: right;\n",
              "    }\n",
              "</style>\n",
              "<table border=\"1\" class=\"dataframe\">\n",
              "  <thead>\n",
              "    <tr style=\"text-align: right;\">\n",
              "      <th></th>\n",
              "      <th>count</th>\n",
              "      <th>mean</th>\n",
              "      <th>std</th>\n",
              "      <th>min</th>\n",
              "      <th>25%</th>\n",
              "      <th>50%</th>\n",
              "      <th>75%</th>\n",
              "      <th>max</th>\n",
              "    </tr>\n",
              "  </thead>\n",
              "  <tbody>\n",
              "    <tr>\n",
              "      <th>ILI</th>\n",
              "      <td>417.0</td>\n",
              "      <td>1.676861</td>\n",
              "      <td>1.126163</td>\n",
              "      <td>0.534093</td>\n",
              "      <td>0.902459</td>\n",
              "      <td>1.252563</td>\n",
              "      <td>2.058690</td>\n",
              "      <td>7.618892</td>\n",
              "    </tr>\n",
              "    <tr>\n",
              "      <th>Queries</th>\n",
              "      <td>417.0</td>\n",
              "      <td>0.286028</td>\n",
              "      <td>0.157697</td>\n",
              "      <td>0.041169</td>\n",
              "      <td>0.156707</td>\n",
              "      <td>0.281541</td>\n",
              "      <td>0.378486</td>\n",
              "      <td>1.000000</td>\n",
              "    </tr>\n",
              "  </tbody>\n",
              "</table>\n",
              "</div>\n",
              "      <button class=\"colab-df-convert\" onclick=\"convertToInteractive('df-f5ab369b-0a02-45ea-9479-8b5b95706180')\"\n",
              "              title=\"Convert this dataframe to an interactive table.\"\n",
              "              style=\"display:none;\">\n",
              "        \n",
              "  <svg xmlns=\"http://www.w3.org/2000/svg\" height=\"24px\"viewBox=\"0 0 24 24\"\n",
              "       width=\"24px\">\n",
              "    <path d=\"M0 0h24v24H0V0z\" fill=\"none\"/>\n",
              "    <path d=\"M18.56 5.44l.94 2.06.94-2.06 2.06-.94-2.06-.94-.94-2.06-.94 2.06-2.06.94zm-11 1L8.5 8.5l.94-2.06 2.06-.94-2.06-.94L8.5 2.5l-.94 2.06-2.06.94zm10 10l.94 2.06.94-2.06 2.06-.94-2.06-.94-.94-2.06-.94 2.06-2.06.94z\"/><path d=\"M17.41 7.96l-1.37-1.37c-.4-.4-.92-.59-1.43-.59-.52 0-1.04.2-1.43.59L10.3 9.45l-7.72 7.72c-.78.78-.78 2.05 0 2.83L4 21.41c.39.39.9.59 1.41.59.51 0 1.02-.2 1.41-.59l7.78-7.78 2.81-2.81c.8-.78.8-2.07 0-2.86zM5.41 20L4 18.59l7.72-7.72 1.47 1.35L5.41 20z\"/>\n",
              "  </svg>\n",
              "      </button>\n",
              "      \n",
              "  <style>\n",
              "    .colab-df-container {\n",
              "      display:flex;\n",
              "      flex-wrap:wrap;\n",
              "      gap: 12px;\n",
              "    }\n",
              "\n",
              "    .colab-df-convert {\n",
              "      background-color: #E8F0FE;\n",
              "      border: none;\n",
              "      border-radius: 50%;\n",
              "      cursor: pointer;\n",
              "      display: none;\n",
              "      fill: #1967D2;\n",
              "      height: 32px;\n",
              "      padding: 0 0 0 0;\n",
              "      width: 32px;\n",
              "    }\n",
              "\n",
              "    .colab-df-convert:hover {\n",
              "      background-color: #E2EBFA;\n",
              "      box-shadow: 0px 1px 2px rgba(60, 64, 67, 0.3), 0px 1px 3px 1px rgba(60, 64, 67, 0.15);\n",
              "      fill: #174EA6;\n",
              "    }\n",
              "\n",
              "    [theme=dark] .colab-df-convert {\n",
              "      background-color: #3B4455;\n",
              "      fill: #D2E3FC;\n",
              "    }\n",
              "\n",
              "    [theme=dark] .colab-df-convert:hover {\n",
              "      background-color: #434B5C;\n",
              "      box-shadow: 0px 1px 3px 1px rgba(0, 0, 0, 0.15);\n",
              "      filter: drop-shadow(0px 1px 2px rgba(0, 0, 0, 0.3));\n",
              "      fill: #FFFFFF;\n",
              "    }\n",
              "  </style>\n",
              "\n",
              "      <script>\n",
              "        const buttonEl =\n",
              "          document.querySelector('#df-f5ab369b-0a02-45ea-9479-8b5b95706180 button.colab-df-convert');\n",
              "        buttonEl.style.display =\n",
              "          google.colab.kernel.accessAllowed ? 'block' : 'none';\n",
              "\n",
              "        async function convertToInteractive(key) {\n",
              "          const element = document.querySelector('#df-f5ab369b-0a02-45ea-9479-8b5b95706180');\n",
              "          const dataTable =\n",
              "            await google.colab.kernel.invokeFunction('convertToInteractive',\n",
              "                                                     [key], {});\n",
              "          if (!dataTable) return;\n",
              "\n",
              "          const docLinkHtml = 'Like what you see? Visit the ' +\n",
              "            '<a target=\"_blank\" href=https://colab.research.google.com/notebooks/data_table.ipynb>data table notebook</a>'\n",
              "            + ' to learn more about interactive tables.';\n",
              "          element.innerHTML = '';\n",
              "          dataTable['output_type'] = 'display_data';\n",
              "          await google.colab.output.renderOutput(dataTable, element);\n",
              "          const docLink = document.createElement('div');\n",
              "          docLink.innerHTML = docLinkHtml;\n",
              "          element.appendChild(docLink);\n",
              "        }\n",
              "      </script>\n",
              "    </div>\n",
              "  </div>\n",
              "  "
            ],
            "text/plain": [
              "         count      mean       std  ...       50%       75%       max\n",
              "ILI      417.0  1.676861  1.126163  ...  1.252563  2.058690  7.618892\n",
              "Queries  417.0  0.286028  0.157697  ...  0.281541  0.378486  1.000000\n",
              "\n",
              "[2 rows x 8 columns]"
            ]
          },
          "metadata": {},
          "execution_count": 27
        }
      ]
    },
    {
      "cell_type": "code",
      "source": [
        "#checando duplicidades das linhas\n",
        "df_treino.duplicated().sum()"
      ],
      "metadata": {
        "colab": {
          "base_uri": "https://localhost:8080/"
        },
        "id": "rBGn5y3pZXvH",
        "outputId": "c658bc60-a531-432b-badb-41b33a44892d"
      },
      "execution_count": null,
      "outputs": [
        {
          "output_type": "execute_result",
          "data": {
            "text/plain": [
              "0"
            ]
          },
          "metadata": {},
          "execution_count": 28
        }
      ]
    },
    {
      "cell_type": "code",
      "source": [
        "#verificando a existência de valores nulos\n",
        "df_treino.isnull().sum().sort_values(ascending=True)"
      ],
      "metadata": {
        "colab": {
          "base_uri": "https://localhost:8080/"
        },
        "id": "1Y6GYLvaayTO",
        "outputId": "1c38b082-5c26-4cec-a270-3f8b4467c34e"
      },
      "execution_count": null,
      "outputs": [
        {
          "output_type": "execute_result",
          "data": {
            "text/plain": [
              "Week       0\n",
              "ILI        0\n",
              "Queries    0\n",
              "dtype: int64"
            ]
          },
          "metadata": {},
          "execution_count": 29
        }
      ]
    },
    {
      "cell_type": "markdown",
      "source": [
        "# EDA (Análise Exploratória de Dados)"
      ],
      "metadata": {
        "id": "V0KWvIgHcrDE"
      }
    },
    {
      "cell_type": "code",
      "source": [
        "#analisando graficamente as variáveis\n",
        "df_treino.hist(figsize=(9,5))\n",
        "plt.show();"
      ],
      "metadata": {
        "colab": {
          "base_uri": "https://localhost:8080/",
          "height": 336
        },
        "id": "8hOehWg5b-jF",
        "outputId": "88d87eca-6078-4215-c712-89d069d54b27"
      },
      "execution_count": null,
      "outputs": [
        {
          "output_type": "display_data",
          "data": {
            "image/png": "[encoded data removed]",
            "text/plain": [
              "<Figure size 648x360 with 2 Axes>"
            ]
          },
          "metadata": {
            "needs_background": "light"
          }
        }
      ]
    },
    {
      "cell_type": "code",
      "source": [
        "#fazendo o comparativo entre as variáveis ILI e Queries\n",
        "fig, ax1 =plt.subplots(figsize=(10,5))\n",
        "\n",
        "ax2=ax1.twinx()\n",
        "\n",
        "ILI,=ax1.plot(df_treino['ILI'],color='black', label='ILI')\n",
        "Querie,=ax2.plot(df_treino['Queries'], color='red',label='Querie' )\n",
        "ax1.legend(handles=[ILI, Querie]);\n"
      ],
      "metadata": {
        "colab": {
          "base_uri": "https://localhost:8080/",
          "height": 320
        },
        "id": "6eZNjDW3cb2e",
        "outputId": "68075d45-8a8d-4e79-d732-5544f5205d80"
      },
      "execution_count": null,
      "outputs": [
        {
          "output_type": "display_data",
          "data": {
            "image/png": "[encoded data removed]",
            "text/plain": [
              "<Figure size 720x360 with 2 Axes>"
            ]
          },
          "metadata": {
            "needs_background": "light"
          }
        }
      ]
    },
    {
      "cell_type": "code",
      "source": [
        "#Verificando a relação entre todas as variáveis usando o pairplot\n",
        "\n",
        "colunas=df_treino.columns\n",
        "sns.pairplot(df_treino.loc[:,colunas], diag_kind='kde', kind='reg')"
      ],
      "metadata": {
        "colab": {
          "base_uri": "https://localhost:8080/",
          "height": 391
        },
        "id": "KoYLej3PgIwa",
        "outputId": "d483ceb7-265e-46e2-8d56-1b02f8d2fb62"
      },
      "execution_count": null,
      "outputs": [
        {
          "output_type": "execute_result",
          "data": {
            "text/plain": [
              "<seaborn.axisgrid.PairGrid at 0x7fa65c97c690>"
            ]
          },
          "metadata": {},
          "execution_count": 36
        },
        {
          "output_type": "display_data",
          "data": {
            "image/png": "[encoded data removed]",
            "text/plain": [
              "<Figure size 360x360 with 6 Axes>"
            ]
          },
          "metadata": {
            "needs_background": "light"
          }
        }
      ]
    },
    {
      "cell_type": "markdown",
      "source": [
        "# Criação do modelo"
      ],
      "metadata": {
        "id": "smEhxUdfkAaf"
      }
    },
    {
      "cell_type": "code",
      "source": [
        "#sepearando as variáveis de treino e teste\n",
        "x_treino=df_treino['ILI']\n",
        "y_treino=df_treino['Queries']\n",
        "\n",
        "x_teste=df_teste['ILI']\n",
        "y_teste=df_teste['Queries']"
      ],
      "metadata": {
        "id": "9OgGGrX6iQzB"
      },
      "execution_count": null,
      "outputs": []
    },
    {
      "cell_type": "code",
      "source": [
        "#criação do modelo\n",
        "\n",
        "x_treinoc = sm.add_constant(x_treino)\n",
        "model = sm.OLS(y_treino, x_treinoc)\n",
        "results = model.fit();"
      ],
      "metadata": {
        "colab": {
          "base_uri": "https://localhost:8080/"
        },
        "id": "BGJ377wHk6He",
        "outputId": "0c7a3c55-1548-4566-d769-f57d427e56d3"
      },
      "execution_count": null,
      "outputs": [
        {
          "output_type": "stream",
          "name": "stderr",
          "text": [
            "/usr/local/lib/python3.7/dist-packages/statsmodels/tsa/tsatools.py:117: FutureWarning: In a future version of pandas all arguments of concat except for the argument 'objs' will be keyword-only\n",
            "  x = pd.concat(x[::order], 1)\n"
          ]
        }
      ]
    },
    {
      "cell_type": "code",
      "source": [
        "print(results.summary())"
      ],
      "metadata": {
        "colab": {
          "base_uri": "https://localhost:8080/"
        },
        "id": "5P5sZDwElN9l",
        "outputId": "90948829-85ce-43d7-f463-fbc3860748c1"
      },
      "execution_count": null,
      "outputs": [
        {
          "output_type": "stream",
          "name": "stdout",
          "text": [
            "                            OLS Regression Results                            \n",
            "==============================================================================\n",
            "Dep. Variable:                Queries   R-squared:                       0.663\n",
            "Model:                            OLS   Adj. R-squared:                  0.662\n",
            "Method:                 Least Squares   F-statistic:                     816.2\n",
            "Date:                Tue, 01 Mar 2022   Prob (F-statistic):          4.79e-100\n",
            "Time:                        00:08:46   Log-Likelihood:                 405.78\n",
            "No. Observations:                 417   AIC:                            -807.6\n",
            "Df Residuals:                     415   BIC:                            -799.5\n",
            "Df Model:                           1                                         \n",
            "Covariance Type:            nonrobust                                         \n",
            "==============================================================================\n",
            "                 coef    std err          t      P>|t|      [0.025      0.975]\n",
            "------------------------------------------------------------------------------\n",
            "const          0.0948      0.008     11.770      0.000       0.079       0.111\n",
            "ILI            0.1140      0.004     28.570      0.000       0.106       0.122\n",
            "==============================================================================\n",
            "Omnibus:                       15.496   Durbin-Watson:                   0.253\n",
            "Prob(Omnibus):                  0.000   Jarque-Bera (JB):               16.303\n",
            "Skew:                           0.444   Prob(JB):                     0.000288\n",
            "Kurtosis:                       3.388   Cond. No.                         4.28\n",
            "==============================================================================\n",
            "\n",
            "Warnings:\n",
            "[1] Standard Errors assume that the covariance matrix of the errors is correctly specified.\n"
          ]
        }
      ]
    },
    {
      "cell_type": "code",
      "source": [
        "x_treinoc = sm.add_constant(x_treino)\n",
        "y_treino_p=results.predict(x_treinoc)"
      ],
      "metadata": {
        "colab": {
          "base_uri": "https://localhost:8080/"
        },
        "id": "A1zaAf_Tl-Vc",
        "outputId": "e35117e0-9b1d-4b44-b08c-8951785ea9bb"
      },
      "execution_count": null,
      "outputs": [
        {
          "output_type": "stream",
          "name": "stderr",
          "text": [
            "/usr/local/lib/python3.7/dist-packages/statsmodels/tsa/tsatools.py:117: FutureWarning: In a future version of pandas all arguments of concat except for the argument 'objs' will be keyword-only\n",
            "  x = pd.concat(x[::order], 1)\n"
          ]
        }
      ]
    },
    {
      "cell_type": "code",
      "source": [
        "#MSE para as variáveis treino\n",
        "mse_treino = mean_squared_error(y_treino, y_treino_p)\n",
        "mse_treino"
      ],
      "metadata": {
        "colab": {
          "base_uri": "https://localhost:8080/"
        },
        "id": "qLx8MPAfl0wb",
        "outputId": "a04857dd-e8ad-444a-e378-c8fa68f46aec"
      },
      "execution_count": null,
      "outputs": [
        {
          "output_type": "execute_result",
          "data": {
            "text/plain": [
              "0.008362008951527312"
            ]
          },
          "metadata": {},
          "execution_count": 41
        }
      ]
    },
    {
      "cell_type": "code",
      "source": [
        "#MAPE para as variáveis treino\n",
        "np.sqrt(mse_treino)"
      ],
      "metadata": {
        "colab": {
          "base_uri": "https://localhost:8080/"
        },
        "id": "ML5ScP2mnz2f",
        "outputId": "8ebd0694-c6f9-4303-ef9b-6afb8c1fccf7"
      },
      "execution_count": null,
      "outputs": [
        {
          "output_type": "execute_result",
          "data": {
            "text/plain": [
              "0.09144402086264204"
            ]
          },
          "metadata": {},
          "execution_count": 42
        }
      ]
    },
    {
      "cell_type": "code",
      "source": [
        "#verificando o modelo nas variáveis de teste\n",
        "\n",
        "x_testec = sm.add_constant(x_teste)\n",
        "y_teste_p=results.predict(x_testec)"
      ],
      "metadata": {
        "colab": {
          "base_uri": "https://localhost:8080/"
        },
        "id": "k_SG6e7foEpd",
        "outputId": "1120a6ca-3ea8-4352-8e17-d25a6244f8e9"
      },
      "execution_count": null,
      "outputs": [
        {
          "output_type": "stream",
          "name": "stderr",
          "text": [
            "/usr/local/lib/python3.7/dist-packages/statsmodels/tsa/tsatools.py:117: FutureWarning: In a future version of pandas all arguments of concat except for the argument 'objs' will be keyword-only\n",
            "  x = pd.concat(x[::order], 1)\n"
          ]
        }
      ]
    },
    {
      "cell_type": "code",
      "source": [
        "#MSE para as variáveis teste\n",
        "\n",
        "mse_teste = mean_squared_error(y_teste, y_teste_p)\n",
        "mse_teste"
      ],
      "metadata": {
        "colab": {
          "base_uri": "https://localhost:8080/"
        },
        "id": "3_Vk7Zb-oTPO",
        "outputId": "850d478f-b0bd-4f3a-cb28-25158469c98a"
      },
      "execution_count": null,
      "outputs": [
        {
          "output_type": "execute_result",
          "data": {
            "text/plain": [
              "0.02157189743338592"
            ]
          },
          "metadata": {},
          "execution_count": 44
        }
      ]
    },
    {
      "cell_type": "code",
      "source": [
        "#MAPE para as variáveis teste\n",
        "np.sqrt(mse_teste)"
      ],
      "metadata": {
        "colab": {
          "base_uri": "https://localhost:8080/"
        },
        "id": "b9DpQxaFoY4m",
        "outputId": "62f7ff56-f24c-48de-b8be-b79268eb6645"
      },
      "execution_count": null,
      "outputs": [
        {
          "output_type": "execute_result",
          "data": {
            "text/plain": [
              "0.146873746576391"
            ]
          },
          "metadata": {},
          "execution_count": 46
        }
      ]
    },
    {
      "cell_type": "code",
      "source": [
        "#Analisando o MSE e MAPE entre as variéveis de treino e teste verifica-se que exitse diferença significativa nestes indicadores.\n",
        "#Evidenciando a necessidade de mais testes no modelo em outros datasets"
      ],
      "metadata": {
        "id": "Ws54GyPkz84J"
      },
      "execution_count": null,
      "outputs": []
    },
    {
      "cell_type": "markdown",
      "source": [
        "# Avaliando as premissas do modelo\n"
      ],
      "metadata": {
        "id": "vIXqXRqNlncz"
      }
    },
    {
      "cell_type": "markdown",
      "source": [
        "# 1 Linearidade\n",
        "Variável target pode ser estimada através da combinação linear entre as variáveis de entrada."
      ],
      "metadata": {
        "id": "03bSIJv2pHGq"
      }
    },
    {
      "cell_type": "code",
      "source": [
        "sns.regplot(y_teste, y_teste_p);"
      ],
      "metadata": {
        "colab": {
          "base_uri": "https://localhost:8080/",
          "height": 334
        },
        "id": "pn3z1LSbpIVg",
        "outputId": "a0345d5e-2d23-4a94-8d73-9d5346b71848"
      },
      "execution_count": null,
      "outputs": [
        {
          "output_type": "stream",
          "name": "stderr",
          "text": [
            "/usr/local/lib/python3.7/dist-packages/seaborn/_decorators.py:43: FutureWarning: Pass the following variables as keyword args: x, y. From version 0.12, the only valid positional argument will be `data`, and passing other arguments without an explicit keyword will result in an error or misinterpretation.\n",
            "  FutureWarning\n"
          ]
        },
        {
          "output_type": "display_data",
          "data": {
            "image/png": "[encoded data removed]",
            "text/plain": [
              "<Figure size 432x288 with 1 Axes>"
            ]
          },
          "metadata": {
            "needs_background": "light"
          }
        }
      ]
    },
    {
      "cell_type": "code",
      "source": [
        "# pelo gráfico anterior é possível verificar uma pequena tendência de a variáve de saída ser estimada através das variáveis de entrada"
      ],
      "metadata": {
        "id": "uqVoIWxApzpA"
      },
      "execution_count": null,
      "outputs": []
    },
    {
      "cell_type": "markdown",
      "source": [
        "# 2 - Resíduos( diferença entre a resutado real e o previsto) tem médias iguais a 0\n",
        "A regressão linear assume que o que não é capturado pelo modelo, os resíduos, tem média 0."
      ],
      "metadata": {
        "id": "0bQXr_yD16A5"
      }
    },
    {
      "cell_type": "code",
      "source": [
        "results.resid.mean()"
      ],
      "metadata": {
        "colab": {
          "base_uri": "https://localhost:8080/"
        },
        "id": "jNKtxMwg2mbn",
        "outputId": "ef0e09d0-ce1d-489a-e9bf-f76f190d55c9"
      },
      "execution_count": null,
      "outputs": [
        {
          "output_type": "execute_result",
          "data": {
            "text/plain": [
              "6.762509550474574e-17"
            ]
          },
          "metadata": {},
          "execution_count": 48
        }
      ]
    },
    {
      "cell_type": "code",
      "source": [
        "#Percebe-se que a média de resíduos é aproximadamente igual a 0"
      ],
      "metadata": {
        "id": "2VmOzD7l2vI4"
      },
      "execution_count": null,
      "outputs": []
    },
    {
      "cell_type": "markdown",
      "source": [
        "# 3 - Sem multicolinariedade (forte)\n",
        "\n",
        "As variáveis não podem ser fortemente correlacionadas entre si. Em outras palavras, não deve ser possível prever uma variável de entrada a partir de outra."
      ],
      "metadata": {
        "id": "OW-TbdBw24EA"
      }
    },
    {
      "cell_type": "code",
      "source": [
        "# matriz de correlação\n",
        "plt.figure(figsize=(25,10))\n",
        "sns.heatmap(df_treino.corr(), annot=True)\n",
        "plt.show()\n",
        "\n",
        "#verifica-se que as variáveis possuem correlação forte"
      ],
      "metadata": {
        "colab": {
          "base_uri": "https://localhost:8080/",
          "height": 541
        },
        "id": "SIq33BAK3Ltt",
        "outputId": "e1a05fa5-181d-4f32-fd60-f34e79c8f4cf"
      },
      "execution_count": null,
      "outputs": [
        {
          "output_type": "display_data",
          "data": {
            "image/png": "[encoded data removed]",
            "text/plain": [
              "<Figure size 1800x720 with 2 Axes>"
            ]
          },
          "metadata": {
            "needs_background": "light"
          }
        }
      ]
    },
    {
      "cell_type": "markdown",
      "source": [
        "# 4 - Homecedasticidade dos resíduos\n",
        "A regressão assume que os resíduos possuem variância igual. Quando a variância dos resíduos não é constante dizemos que possui heteroscedasticidade."
      ],
      "metadata": {
        "id": "0gFDqg2v39Op"
      }
    },
    {
      "cell_type": "code",
      "source": [
        "y_pred=results.predict(x_treinoc)\n",
        "sns.regplot(y_pred, results.resid);"
      ],
      "metadata": {
        "colab": {
          "base_uri": "https://localhost:8080/",
          "height": 320
        },
        "id": "pQ9yIu1-4Hac",
        "outputId": "e194ccb9-5664-4984-a293-9f36fc26712e"
      },
      "execution_count": null,
      "outputs": [
        {
          "output_type": "stream",
          "name": "stderr",
          "text": [
            "/usr/local/lib/python3.7/dist-packages/seaborn/_decorators.py:43: FutureWarning: Pass the following variables as keyword args: x, y. From version 0.12, the only valid positional argument will be `data`, and passing other arguments without an explicit keyword will result in an error or misinterpretation.\n",
            "  FutureWarning\n"
          ]
        },
        {
          "output_type": "display_data",
          "data": {
            "image/png": "[encoded data removed]",
            "text/plain": [
              "<Figure size 432x288 with 1 Axes>"
            ]
          },
          "metadata": {
            "needs_background": "light"
          }
        }
      ]
    },
    {
      "cell_type": "markdown",
      "source": [
        "H0  do teste Goldfeld-Quandt assume que os resíduos são homoscedasticos. \n"
      ],
      "metadata": {
        "id": "Yo0D1S6N4pqG"
      }
    },
    {
      "cell_type": "code",
      "source": [
        "t, p, _ = sms.het_goldfeldquandt(results.resid, x_treinoc)\n",
        "print(p)\n",
        "\n",
        "#como os valores do p-value são menores que 5%, rejeita-se H0, assim os resíduos não são homocedásticos, \n",
        "#isto é, a variância dos resíduos não é constante\n",
        "#Este fato é confirmado pelo gráfico"
      ],
      "metadata": {
        "colab": {
          "base_uri": "https://localhost:8080/"
        },
        "id": "Z4bUL8my4t7C",
        "outputId": "06e65f34-879c-434c-b48b-19b78c5e9af7"
      },
      "execution_count": null,
      "outputs": [
        {
          "output_type": "stream",
          "name": "stdout",
          "text": [
            "0.0010514716862892435\n"
          ]
        }
      ]
    },
    {
      "cell_type": "markdown",
      "source": [
        "# 5 - Resíduos não podem ser autocorrelacionados\n",
        "Autocorrelação nos resíduos significa que o resíduo depende de valores anteriores dos resíduos.\n",
        "Durbin Watson Test\n",
        "A saída do teste é sempre entre 0 e 4, onde:\n",
        "\n",
        "Valor igual a 2 significa que não tem autocorrelação nos resíduos.\n",
        "Valor < 2 indica correlação positiva nos resíduos.\n",
        "Valor > 2 indica correlação negativa nos resíduos."
      ],
      "metadata": {
        "id": "k6VgQ2F_5m3U"
      }
    },
    {
      "cell_type": "code",
      "source": [
        "acf = smt.graphics.plot_acf( results.resid, lags=10, alpha=0.05 )\n",
        "acf.show()\n",
        "\n",
        "#pelo gráfico anterior verifica-se que os resíduos são autocorrelacionados"
      ],
      "metadata": {
        "colab": {
          "base_uri": "https://localhost:8080/",
          "height": 281
        },
        "id": "aTgeBBAh5ueP",
        "outputId": "896ce244-d83d-4d74-df81-25537608339d"
      },
      "execution_count": null,
      "outputs": [
        {
          "output_type": "display_data",
          "data": {
            "image/png": "[encoded data removed]",
            "text/plain": [
              "<Figure size 432x288 with 1 Axes>"
            ]
          },
          "metadata": {
            "needs_background": "light"
          }
        }
      ]
    },
    {
      "cell_type": "markdown",
      "source": [
        "#6 - Resíduos e variáveis não correlacionados\n",
        "Resíduos correlacionados significa que os resíduos não são componentes totalmente aleatórios."
      ],
      "metadata": {
        "id": "ETGpy7A97EGj"
      }
    },
    {
      "cell_type": "code",
      "source": [
        "corr_test1 = pearsonr( df_treino['ILI'], results.resid )\n",
        "corr_test2 = pearsonr( df_treino['Queries'], results.resid )\n",
        "print(corr_test1)\n",
        "print(corr_test2)\n",
        "#pelos resultados, verifica-se que as a variável Querie e seus residuos são correlacionados"
      ],
      "metadata": {
        "colab": {
          "base_uri": "https://localhost:8080/"
        },
        "id": "6rRO8R7Y-zlM",
        "outputId": "736e7b62-8e82-4370-e87a-583a9dd65423"
      },
      "execution_count": null,
      "outputs": [
        {
          "output_type": "stream",
          "name": "stdout",
          "text": [
            "(5.052382123782451e-16, 0.9999999999997654)\n",
            "(0.5805683550292013, 6.063591412835878e-39)\n"
          ]
        }
      ]
    },
    {
      "cell_type": "markdown",
      "source": [
        "#7 - Normalidade dos resíduos\n",
        "Se os resíduos nao fore norais haverá problemas na determinação dos intervalos de confiança e o nível de significância dos coeficientes"
      ],
      "metadata": {
        "id": "k9fyV-bJC1zj"
      }
    },
    {
      "cell_type": "code",
      "source": [
        "plt.hist(results.resid);"
      ],
      "metadata": {
        "colab": {
          "base_uri": "https://localhost:8080/",
          "height": 265
        },
        "id": "FPVNl46LDAiT",
        "outputId": "7d6cd895-4234-4866-d063-0537bdb6b040"
      },
      "execution_count": null,
      "outputs": [
        {
          "output_type": "display_data",
          "data": {
            "image/png": "[encoded data removed]",
            "text/plain": [
              "<Figure size 432x288 with 1 Axes>"
            ]
          },
          "metadata": {
            "needs_background": "light"
          }
        }
      ]
    },
    {
      "cell_type": "code",
      "source": [
        "from scipy.stats.morestats import shapiro\n",
        "shapiro(results.resid)\n",
        "#pelo resultado do teste de Shapiro, observa-se que os resíduos não são normais"
      ],
      "metadata": {
        "colab": {
          "base_uri": "https://localhost:8080/"
        },
        "id": "D-SVjKTADZ7M",
        "outputId": "826bc50c-168b-4dff-b371-f99c6f279610"
      },
      "execution_count": null,
      "outputs": [
        {
          "output_type": "execute_result",
          "data": {
            "text/plain": [
              "(0.9858033657073975, 0.0004210332699585706)"
            ]
          },
          "metadata": {},
          "execution_count": 80
        }
      ]
    },
    {
      "cell_type": "code",
      "source": [
        "print(results.summary())"
      ],
      "metadata": {
        "colab": {
          "base_uri": "https://localhost:8080/"
        },
        "id": "ifApbaEtDIXl",
        "outputId": "c2e402fb-8337-40be-e837-cdd9aeb6a6a3"
      },
      "execution_count": null,
      "outputs": [
        {
          "output_type": "stream",
          "name": "stdout",
          "text": [
            "                            OLS Regression Results                            \n",
            "==============================================================================\n",
            "Dep. Variable:                Queries   R-squared:                       0.663\n",
            "Model:                            OLS   Adj. R-squared:                  0.662\n",
            "Method:                 Least Squares   F-statistic:                     816.2\n",
            "Date:                Tue, 01 Mar 2022   Prob (F-statistic):          4.79e-100\n",
            "Time:                        01:16:45   Log-Likelihood:                 405.78\n",
            "No. Observations:                 417   AIC:                            -807.6\n",
            "Df Residuals:                     415   BIC:                            -799.5\n",
            "Df Model:                           1                                         \n",
            "Covariance Type:            nonrobust                                         \n",
            "==============================================================================\n",
            "                 coef    std err          t      P>|t|      [0.025      0.975]\n",
            "------------------------------------------------------------------------------\n",
            "const          0.0948      0.008     11.770      0.000       0.079       0.111\n",
            "ILI            0.1140      0.004     28.570      0.000       0.106       0.122\n",
            "==============================================================================\n",
            "Omnibus:                       15.496   Durbin-Watson:                   0.253\n",
            "Prob(Omnibus):                  0.000   Jarque-Bera (JB):               16.303\n",
            "Skew:                           0.444   Prob(JB):                     0.000288\n",
            "Kurtosis:                       3.388   Cond. No.                         4.28\n",
            "==============================================================================\n",
            "\n",
            "Warnings:\n",
            "[1] Standard Errors assume that the covariance matrix of the errors is correctly specified.\n"
          ]
        }
      ]
    },
    {
      "cell_type": "code",
      "source": [
        "#pelo histograma anterior, resultado do teste de normalidade de Shapiro, e p-value no Omnibus. verifica-se que os resíduos não são normais"
      ],
      "metadata": {
        "id": "QirkJER-D1RX"
      },
      "execution_count": null,
      "outputs": []
    },
    {
      "cell_type": "markdown",
      "source": [
        "# Conclusão"
      ],
      "metadata": {
        "id": "aE-28nwvER3s"
      }
    },
    {
      "cell_type": "markdown",
      "source": [
        "Pode ser concluído que o modelo não é adequado para estimar a relação entre o número de doenças e pesquisas no Google.\n",
        "Apesar de o coefciente de determinação ser de 63,2%.\n",
        "Verifica-se qeu os resultado sde MSE e MAPE para as variáveis de treino e teste estão bastante discrepantes e as premissas anteriores de validação não forma atendidas.\n",
        "Com destaque para:\n",
        "- A falta de normalidade entre os residuos:\n",
        "- Resíduos não são homocedásticos\n",
        "- Correlação entre os resíduos"
      ],
      "metadata": {
        "id": "9fJY_tYDEXVz"
      }
    }
  ]
}